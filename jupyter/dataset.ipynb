{
 "cells": [
  {
   "cell_type": "code",
   "execution_count": 1,
   "metadata": {},
   "outputs": [],
   "source": [
    "import numpy as np\n",
    "import os"
   ]
  },
  {
   "cell_type": "code",
   "execution_count": 2,
   "metadata": {},
   "outputs": [
    {
     "ename": "FileNotFoundError",
     "evalue": "[Errno 2] No such file or directory: '/home/johnson-lin/Downloads/organmnist_coronal.npz'",
     "output_type": "error",
     "traceback": [
      "\u001b[0;31m---------------------------------------------------------------------------\u001b[0m",
      "\u001b[0;31mFileNotFoundError\u001b[0m                         Traceback (most recent call last)",
      "\u001b[0;32m<ipython-input-2-2e0804367161>\u001b[0m in \u001b[0;36m<module>\u001b[0;34m\u001b[0m\n\u001b[1;32m      1\u001b[0m \u001b[0mroot\u001b[0m \u001b[0;34m=\u001b[0m \u001b[0;34m'/home/johnson-lin/Downloads'\u001b[0m\u001b[0;34m\u001b[0m\u001b[0;34m\u001b[0m\u001b[0m\n\u001b[0;32m----> 2\u001b[0;31m \u001b[0mnpz_file\u001b[0m \u001b[0;34m=\u001b[0m \u001b[0mnp\u001b[0m\u001b[0;34m.\u001b[0m\u001b[0mload\u001b[0m\u001b[0;34m(\u001b[0m\u001b[0mos\u001b[0m\u001b[0;34m.\u001b[0m\u001b[0mpath\u001b[0m\u001b[0;34m.\u001b[0m\u001b[0mjoin\u001b[0m\u001b[0;34m(\u001b[0m\u001b[0mroot\u001b[0m\u001b[0;34m,\u001b[0m \u001b[0;34m'organmnist_coronal.npz'\u001b[0m\u001b[0;34m)\u001b[0m\u001b[0;34m)\u001b[0m\u001b[0;34m\u001b[0m\u001b[0;34m\u001b[0m\u001b[0m\n\u001b[0m\u001b[1;32m      3\u001b[0m \u001b[0mtrain_data\u001b[0m \u001b[0;34m=\u001b[0m \u001b[0mnpz_file\u001b[0m\u001b[0;34m[\u001b[0m\u001b[0;34m'train_images'\u001b[0m\u001b[0;34m]\u001b[0m\u001b[0;34m\u001b[0m\u001b[0;34m\u001b[0m\u001b[0m\n\u001b[1;32m      4\u001b[0m \u001b[0mtrain_labels\u001b[0m \u001b[0;34m=\u001b[0m  \u001b[0mnpz_file\u001b[0m\u001b[0;34m[\u001b[0m\u001b[0;34m'train_labels'\u001b[0m\u001b[0;34m]\u001b[0m\u001b[0;34m\u001b[0m\u001b[0;34m\u001b[0m\u001b[0m\n\u001b[1;32m      5\u001b[0m \u001b[0mval_data\u001b[0m \u001b[0;34m=\u001b[0m \u001b[0mnpz_file\u001b[0m\u001b[0;34m[\u001b[0m\u001b[0;34m'val_images'\u001b[0m\u001b[0;34m]\u001b[0m\u001b[0;34m\u001b[0m\u001b[0;34m\u001b[0m\u001b[0m\n",
      "\u001b[0;32m~/.conda/envs/xzth38/lib/python3.8/site-packages/numpy/lib/npyio.py\u001b[0m in \u001b[0;36mload\u001b[0;34m(file, mmap_mode, allow_pickle, fix_imports, encoding)\u001b[0m\n\u001b[1;32m    414\u001b[0m             \u001b[0mown_fid\u001b[0m \u001b[0;34m=\u001b[0m \u001b[0;32mFalse\u001b[0m\u001b[0;34m\u001b[0m\u001b[0;34m\u001b[0m\u001b[0m\n\u001b[1;32m    415\u001b[0m         \u001b[0;32melse\u001b[0m\u001b[0;34m:\u001b[0m\u001b[0;34m\u001b[0m\u001b[0;34m\u001b[0m\u001b[0m\n\u001b[0;32m--> 416\u001b[0;31m             \u001b[0mfid\u001b[0m \u001b[0;34m=\u001b[0m \u001b[0mstack\u001b[0m\u001b[0;34m.\u001b[0m\u001b[0menter_context\u001b[0m\u001b[0;34m(\u001b[0m\u001b[0mopen\u001b[0m\u001b[0;34m(\u001b[0m\u001b[0mos_fspath\u001b[0m\u001b[0;34m(\u001b[0m\u001b[0mfile\u001b[0m\u001b[0;34m)\u001b[0m\u001b[0;34m,\u001b[0m \u001b[0;34m\"rb\"\u001b[0m\u001b[0;34m)\u001b[0m\u001b[0;34m)\u001b[0m\u001b[0;34m\u001b[0m\u001b[0;34m\u001b[0m\u001b[0m\n\u001b[0m\u001b[1;32m    417\u001b[0m             \u001b[0mown_fid\u001b[0m \u001b[0;34m=\u001b[0m \u001b[0;32mTrue\u001b[0m\u001b[0;34m\u001b[0m\u001b[0;34m\u001b[0m\u001b[0m\n\u001b[1;32m    418\u001b[0m \u001b[0;34m\u001b[0m\u001b[0m\n",
      "\u001b[0;31mFileNotFoundError\u001b[0m: [Errno 2] No such file or directory: '/home/johnson-lin/Downloads/organmnist_coronal.npz'"
     ]
    }
   ],
   "source": [
    "root = '../'\n",
    "npz_file = np.load(os.path.join(root, 'organmnist_coronal.npz'))\n",
    "train_data = npz_file['train_images']\n",
    "train_labels =  npz_file['train_labels']\n",
    "val_data = npz_file['val_images']\n",
    "val_labels =  npz_file['val_labels']\n",
    "test_data = npz_file['test_images']\n",
    "test_labels =  npz_file['test_labels']"
   ]
  },
  {
   "cell_type": "code",
   "execution_count": 3,
   "metadata": {},
   "outputs": [],
   "source": [
    "bladder = []\n",
    "femur_left = []\n",
    "femur_right = []\n",
    "heart = []\n",
    "kidney_left = []\n",
    "kidney_right = []\n",
    "liver = []\n",
    "lung_left = []\n",
    "lung_right = []\n",
    "pancreas = []\n",
    "spleen = []\n",
    "for i in range(len(train_labels)):\n",
    "    if train_labels[i] == 0:\n",
    "        bladder.append(train_data[i])\n",
    "    if train_labels[i] == 1:\n",
    "        femur_left.append(train_data[i])\n",
    "    if train_labels[i] == 2:\n",
    "        femur_right.append(train_data[i])\n",
    "    if train_labels[i] == 3:\n",
    "        heart.append(train_data[i])\n",
    "    if train_labels[i] == 4:\n",
    "        kidney_left.append(train_data[i])\n",
    "    if train_labels[i] == 5:\n",
    "        kidney_right.append(train_data[i])\n",
    "    if train_labels[i] == 6:\n",
    "        liver.append(train_data[i])\n",
    "    if train_labels[i] == 7:\n",
    "        lung_left.append(train_data[i])\n",
    "    if train_labels[i] == 8:\n",
    "        lung_right.append(train_data[i])\n",
    "    if train_labels[i] == 9:\n",
    "        pancreas.append(train_data[i])\n",
    "    if train_labels[i] == 10:\n",
    "        spleen.append(train_data[i])"
   ]
  },
  {
   "cell_type": "code",
   "execution_count": 4,
   "metadata": {},
   "outputs": [],
   "source": [
    "bladder_val = []\n",
    "femur_left_val = []\n",
    "femur_right_val = []\n",
    "heart_val = []\n",
    "kidney_left_val = []\n",
    "kidney_right_val = []\n",
    "liver_val = []\n",
    "lung_left_val = []\n",
    "lung_right_val = []\n",
    "pancreas_val = []\n",
    "spleen_val = []\n",
    "for i in range(len(val_labels)):\n",
    "    if val_labels[i] == 0:\n",
    "        bladder_val.append(val_data[i])\n",
    "    if val_labels[i] == 1:\n",
    "        femur_left_val.append(val_data[i])\n",
    "    if val_labels[i] == 2:\n",
    "        femur_right_val.append(val_data[i])\n",
    "    if val_labels[i] == 3:\n",
    "        heart_val.append(val_data[i])\n",
    "    if val_labels[i] == 4:\n",
    "        kidney_left_val.append(val_data[i])\n",
    "    if val_labels[i] == 5:\n",
    "        kidney_right_val.append(val_data[i])\n",
    "    if val_labels[i] == 6:\n",
    "        liver_val.append(val_data[i])\n",
    "    if val_labels[i] == 7:\n",
    "        lung_left_val.append(val_data[i])\n",
    "    if val_labels[i] == 8:\n",
    "        lung_right_val.append(val_data[i])\n",
    "    if val_labels[i] == 9:\n",
    "        pancreas_val.append(val_data[i])\n",
    "    if val_labels[i] == 10:\n",
    "        spleen_val.append(val_data[i])"
   ]
  },
  {
   "cell_type": "code",
   "execution_count": 5,
   "metadata": {},
   "outputs": [],
   "source": [
    "bladder_test = []\n",
    "femur_left_test = []\n",
    "femur_right_test = []\n",
    "heart_test = []\n",
    "kidney_left_test = []\n",
    "kidney_right_test = []\n",
    "liver_test = []\n",
    "lung_left_test = []\n",
    "lung_right_test = []\n",
    "pancreas_test = []\n",
    "spleen_test = []\n",
    "for i in range(len(test_labels)):\n",
    "    if test_labels[i] == 0:\n",
    "        bladder_test.append(test_data[i])\n",
    "    if test_labels[i] == 1:\n",
    "        femur_left_test.append(test_data[i])\n",
    "    if test_labels[i] == 2:\n",
    "        femur_right_test.append(test_data[i])\n",
    "    if test_labels[i] == 3:\n",
    "        heart_test.append(test_data[i])\n",
    "    if test_labels[i] == 4:\n",
    "        kidney_left_test.append(test_data[i])\n",
    "    if test_labels[i] == 5:\n",
    "        kidney_right_test.append(test_data[i])\n",
    "    if test_labels[i] == 6:\n",
    "        liver_test.append(test_data[i])\n",
    "    if test_labels[i] == 7:\n",
    "        lung_left_test.append(test_data[i])\n",
    "    if test_labels[i] == 8:\n",
    "        lung_right_test.append(test_data[i])\n",
    "    if test_labels[i] == 9:\n",
    "        pancreas_test.append(test_data[i])\n",
    "    if test_labels[i] == 10:\n",
    "        spleen_test.append(test_data[i])"
   ]
  },
  {
   "cell_type": "code",
   "execution_count": 6,
   "metadata": {},
   "outputs": [],
   "source": [
    "train_list = []\n",
    "labels_list = []\n",
    "for i in range(len(heart)):\n",
    "    train_list.append(heart[i])\n",
    "    labels_list.append(0)\n",
    "    \n",
    "for i in range(len(lung_right)):\n",
    "    train_list.append(lung_right[i])\n",
    "    labels_list.append(1)"
   ]
  },
  {
   "cell_type": "code",
   "execution_count": 7,
   "metadata": {},
   "outputs": [],
   "source": [
    "train_idx = np.arange(len(train_list))\n",
    "np.random.shuffle(train_idx)"
   ]
  },
  {
   "cell_type": "code",
   "execution_count": 8,
   "metadata": {},
   "outputs": [
    {
     "data": {
      "text/plain": [
       "numpy.ndarray"
      ]
     },
     "execution_count": 8,
     "metadata": {},
     "output_type": "execute_result"
    }
   ],
   "source": [
    "type(train_idx)"
   ]
  },
  {
   "cell_type": "code",
   "execution_count": 9,
   "metadata": {},
   "outputs": [],
   "source": [
    "train_np = []\n",
    "labels_np = []\n",
    "for idx in train_idx:\n",
    "    train_np.append(train_list[idx])\n",
    "    labels_np.append(labels_list[idx])"
   ]
  },
  {
   "cell_type": "code",
   "execution_count": 10,
   "metadata": {},
   "outputs": [
    {
     "data": {
      "text/plain": [
       "(1622, 28, 28)"
      ]
     },
     "execution_count": 10,
     "metadata": {},
     "output_type": "execute_result"
    }
   ],
   "source": [
    "train_np = np.array(train_np)\n",
    "train_np.shape"
   ]
  },
  {
   "cell_type": "code",
   "execution_count": 11,
   "metadata": {},
   "outputs": [
    {
     "data": {
      "text/plain": [
       "(1622,)"
      ]
     },
     "execution_count": 11,
     "metadata": {},
     "output_type": "execute_result"
    }
   ],
   "source": [
    "labels_np = np.array(labels_np)\n",
    "labels_np.shape"
   ]
  },
  {
   "cell_type": "code",
   "execution_count": 12,
   "metadata": {},
   "outputs": [],
   "source": [
    "val_list = []\n",
    "val_labels_list = []\n",
    "for i in range(len(heart_val)):\n",
    "    val_list.append(heart_val[i])\n",
    "    val_labels_list.append(0)\n",
    "    \n",
    "for i in range(len(lung_right_val)):\n",
    "    val_list.append(lung_right_val[i])\n",
    "    val_labels_list.append(1)"
   ]
  },
  {
   "cell_type": "code",
   "execution_count": 13,
   "metadata": {},
   "outputs": [],
   "source": [
    "val_idx = np.arange(len(val_list))\n",
    "np.random.shuffle(val_idx)"
   ]
  },
  {
   "cell_type": "code",
   "execution_count": 14,
   "metadata": {},
   "outputs": [],
   "source": [
    "val_np = []\n",
    "val_labels_np = []\n",
    "for idx in val_idx:\n",
    "    val_np.append(val_list[idx])\n",
    "    val_labels_np.append(val_labels_list[idx])"
   ]
  },
  {
   "cell_type": "code",
   "execution_count": 15,
   "metadata": {},
   "outputs": [
    {
     "data": {
      "text/plain": [
       "(554, 28, 28)"
      ]
     },
     "execution_count": 15,
     "metadata": {},
     "output_type": "execute_result"
    }
   ],
   "source": [
    "val_np = np.array(val_np)\n",
    "val_np.shape"
   ]
  },
  {
   "cell_type": "code",
   "execution_count": 16,
   "metadata": {},
   "outputs": [
    {
     "data": {
      "text/plain": [
       "(554,)"
      ]
     },
     "execution_count": 16,
     "metadata": {},
     "output_type": "execute_result"
    }
   ],
   "source": [
    "val_labels_np = np.array(val_labels_np)\n",
    "val_labels_np.shape"
   ]
  },
  {
   "cell_type": "code",
   "execution_count": 17,
   "metadata": {},
   "outputs": [],
   "source": [
    "test_list = []\n",
    "test_labels_list = []\n",
    "for i in range(len(heart_test)):\n",
    "    test_list.append(heart_test[i])\n",
    "    test_labels_list.append(0)\n",
    "    \n",
    "for i in range(len(lung_right_test)):\n",
    "    test_list.append(lung_right_test[i])\n",
    "    test_labels_list.append(1)"
   ]
  },
  {
   "cell_type": "code",
   "execution_count": 18,
   "metadata": {},
   "outputs": [],
   "source": [
    "test_idx = np.arange(len(test_list))\n",
    "np.random.shuffle(test_idx)"
   ]
  },
  {
   "cell_type": "code",
   "execution_count": 19,
   "metadata": {},
   "outputs": [],
   "source": [
    "test_np = []\n",
    "test_labels_np = []\n",
    "for idx in test_idx:\n",
    "    test_np.append(test_list[idx])\n",
    "    test_labels_np.append(test_labels_list[idx])"
   ]
  },
  {
   "cell_type": "code",
   "execution_count": 20,
   "metadata": {},
   "outputs": [
    {
     "data": {
      "text/plain": [
       "(979, 28, 28)"
      ]
     },
     "execution_count": 20,
     "metadata": {},
     "output_type": "execute_result"
    }
   ],
   "source": [
    "test_np = np.array(test_np)\n",
    "test_np.shape"
   ]
  },
  {
   "cell_type": "code",
   "execution_count": 21,
   "metadata": {},
   "outputs": [
    {
     "data": {
      "text/plain": [
       "(979,)"
      ]
     },
     "execution_count": 21,
     "metadata": {},
     "output_type": "execute_result"
    }
   ],
   "source": [
    "test_labels_np = np.array(test_labels_np)\n",
    "test_labels_np.shape"
   ]
  },
  {
   "cell_type": "code",
   "execution_count": 22,
   "metadata": {},
   "outputs": [],
   "source": [
    "np.savez('minidata.npz', train_images=train_np,train_labels=labels_np, val_images=val_np, val_labels=val_labels_np, test_images=test_np, test_labels=test_labels_np)"
   ]
  },
  {
   "cell_type": "code",
   "execution_count": 23,
   "metadata": {},
   "outputs": [],
   "source": [
    "npz_file = np.load('minidata.npz')"
   ]
  },
  {
   "cell_type": "code",
   "execution_count": 24,
   "metadata": {},
   "outputs": [],
   "source": [
    "train_data = npz_file['train_images']\n",
    "train_labels = npz_file['train_labels']"
   ]
  },
  {
   "cell_type": "code",
   "execution_count": 25,
   "metadata": {},
   "outputs": [
    {
     "data": {
      "text/plain": [
       "558"
      ]
     },
     "execution_count": 25,
     "metadata": {},
     "output_type": "execute_result"
    }
   ],
   "source": [
    "test_labels_np.sum()"
   ]
  },
  {
   "cell_type": "code",
   "execution_count": null,
   "metadata": {},
   "outputs": [],
   "source": []
  }
 ],
 "metadata": {
  "kernelspec": {
   "display_name": "Python 3",
   "language": "python",
   "name": "python3"
  },
  "language_info": {
   "codemirror_mode": {
    "name": "ipython",
    "version": 3
   },
   "file_extension": ".py",
   "mimetype": "text/x-python",
   "name": "python",
   "nbconvert_exporter": "python",
   "pygments_lexer": "ipython3",
   "version": "3.6.12"
  }
 },
 "nbformat": 4,
 "nbformat_minor": 4
}
